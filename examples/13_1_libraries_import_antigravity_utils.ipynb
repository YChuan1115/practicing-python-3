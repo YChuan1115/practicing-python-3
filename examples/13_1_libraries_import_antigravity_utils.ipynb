{
 "cells": [
  {
   "cell_type": "markdown",
   "metadata": {},
   "source": [
    "## Python Parameters and Functions – `sys`"
   ]
  },
  {
   "cell_type": "code",
   "execution_count": 1,
   "metadata": {
    "scrolled": true
   },
   "outputs": [
    {
     "name": "stdout",
     "output_type": "stream",
     "text": [
      "3.6.3 (default, Nov 22 2017, 13:29:32) \n",
      "[GCC 4.2.1 Compatible Apple LLVM 9.0.0 (clang-900.0.38)]\n",
      "\n",
      "sys.version_info(major=3, minor=6, micro=3, releaselevel='final', serial=0)\n"
     ]
    }
   ],
   "source": [
    "import sys\n",
    "\n",
    "print(sys.version)\n",
    "print()\n",
    "print(sys.version_info)"
   ]
  },
  {
   "cell_type": "markdown",
   "metadata": {},
   "source": [
    "## Operating System Interfaces – `os`"
   ]
  },
  {
   "cell_type": "code",
   "execution_count": 2,
   "metadata": {},
   "outputs": [
    {
     "name": "stdout",
     "output_type": "stream",
     "text": [
      "name: posix\n",
      "cwd: /Users/mosky/Dropbox/Projects/Practicing Python 3/examples\n",
      "uid: 501\n",
      "pid: 8445\n"
     ]
    }
   ],
   "source": [
    "# os is the operating system which Python runs on\n",
    "import os\n",
    "\n",
    "print('name:', os.name)\n",
    "print('cwd:', os.getcwd())\n",
    "print('uid:', os.getuid())\n",
    "print('pid:', os.getpid())\n",
    "# os.chdir(...)\n",
    "# os.link(...)\n",
    "# os.mkdir(...)\n",
    "# os.remove(...)\n",
    "# os.fork(...)"
   ]
  },
  {
   "cell_type": "markdown",
   "metadata": {},
   "source": [
    "## Pathname Manipulations – `os.path`"
   ]
  },
  {
   "cell_type": "code",
   "execution_count": 3,
   "metadata": {},
   "outputs": [
    {
     "name": "stdout",
     "output_type": "stream",
     "text": [
      "abs: /Users/mosky/Dropbox/Projects/Practicing Python 3/examples/tmp\n",
      "base: a_file\n",
      "dir: path/to\n",
      "exists: False\n"
     ]
    }
   ],
   "source": [
    "from os.path import *\n",
    "\n",
    "print('abs:', abspath('tmp/'))\n",
    "print('base:', basename('path/to/a_file'))\n",
    "print('dir:', dirname('path/to/a_file'))\n",
    "print('exists:', exists('./a'))"
   ]
  },
  {
   "cell_type": "markdown",
   "metadata": {},
   "source": [
    "## Object-Oriented Paths – `pathlib`"
   ]
  },
  {
   "cell_type": "code",
   "execution_count": 4,
   "metadata": {},
   "outputs": [
    {
     "name": "stdout",
     "output_type": "stream",
     "text": [
      "abs: /Users/mosky/Dropbox/Projects/Practicing Python 3/examples/tmp\n",
      "base: a_file\n",
      "dir: path/to\n",
      "exists: False\n",
      "\n",
      "PosixPath('/etc/init.d/reboot')\n",
      "/etc/init.d/reboot\n"
     ]
    }
   ],
   "source": [
    "from pathlib import Path\n",
    "\n",
    "print('abs:', Path('tmp/').resolve())\n",
    "print('base:', Path('path/to/a_file').name)\n",
    "print('dir:', Path('path/to/a_file').parent)\n",
    "print('exists:', Path('./a').exists())\n",
    "print()\n",
    "\n",
    "p = Path('/etc')\n",
    "q = p / 'init.d' / 'reboot'\n",
    "print(repr(q))\n",
    "print(q)"
   ]
  },
  {
   "cell_type": "markdown",
   "metadata": {},
   "source": [
    "## Pathname Pattern Expansion – `glob`"
   ]
  },
  {
   "cell_type": "code",
   "execution_count": 5,
   "metadata": {},
   "outputs": [
    {
     "name": "stdout",
     "output_type": "stream",
     "text": [
      "['09_libraries_command_line_arguments.py']\n"
     ]
    }
   ],
   "source": [
    "from glob import glob\n",
    "\n",
    "print(glob('*.py'))"
   ]
  },
  {
   "cell_type": "markdown",
   "metadata": {},
   "source": [
    "## Generate Random Numbers – `random`"
   ]
  },
  {
   "cell_type": "code",
   "execution_count": 6,
   "metadata": {},
   "outputs": [
    {
     "name": "stdout",
     "output_type": "stream",
     "text": [
      "choice: apple\n",
      "\n",
      "before shuffle: [0, 1, 2, 3, 4, 5, 6, 7, 8, 9]\n",
      "after shuffle: [1, 7, 6, 3, 9, 4, 8, 2, 5, 0]\n",
      "\n",
      "randrange: 1\n",
      "randint: 3\n",
      "\n",
      "sample: [5, 8, 1]\n"
     ]
    }
   ],
   "source": [
    "from random import *\n",
    "\n",
    "my_range = range(10)\n",
    "\n",
    "print('choice:', choice(['apple', 'orange']))\n",
    "print()\n",
    "\n",
    "# random.shuffle(my_range) # -> TypeError: 'range' object does not support item assignment\n",
    "my_list = list(my_range)\n",
    "print('before shuffle:', my_list)\n",
    "shuffle(my_list) # -> None\n",
    "print('after shuffle:', my_list)\n",
    "print()\n",
    "\n",
    "print('randrange:', randrange(1, 3))\n",
    "print('randint:', randint(1, 3)) # alias for randrange(a, b+1)\n",
    "print()\n",
    "\n",
    "print('sample:', sample(my_range, 3))"
   ]
  }
 ],
 "metadata": {
  "kernelspec": {
   "display_name": "Python 3",
   "language": "python",
   "name": "python3"
  },
  "language_info": {
   "codemirror_mode": {
    "name": "ipython",
    "version": 3
   },
   "file_extension": ".py",
   "mimetype": "text/x-python",
   "name": "python",
   "nbconvert_exporter": "python",
   "pygments_lexer": "ipython3",
   "version": "3.6.3"
  },
  "toc": {
   "nav_menu": {},
   "number_sections": true,
   "sideBar": true,
   "skip_h1_title": true,
   "toc_cell": false,
   "toc_position": {
    "height": "833px",
    "left": "0px",
    "right": "1228px",
    "top": "67px",
    "width": "212px"
   },
   "toc_section_display": "block",
   "toc_window_display": false
  }
 },
 "nbformat": 4,
 "nbformat_minor": 1
}
