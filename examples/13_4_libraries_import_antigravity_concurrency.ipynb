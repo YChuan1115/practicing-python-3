{
 "cells": [
  {
   "cell_type": "code",
   "execution_count": 1,
   "metadata": {},
   "outputs": [
    {
     "name": "stdout",
     "output_type": "stream",
     "text": [
      "From 1 s → ≈ 0 s:\n",
      "statring task 1\n",
      "1\n",
      "CPU times: user 2.53 ms, sys: 2.46 ms, total: 4.99 ms\n",
      "Wall time: 1.01 s\n",
      "done\n",
      "CPU times: user 560 µs, sys: 292 µs, total: 852 µs\n",
      "Wall time: 774 µs\n"
     ]
    }
   ],
   "source": [
    "from time import sleep\n",
    "from threading import Thread\n",
    "\n",
    "def return_slowly(i):\n",
    "    sleep(1)\n",
    "    print('statring task', i)\n",
    "    return i\n",
    "\n",
    "def test_thread():\n",
    "    Thread(target=return_slowly, args=(1, )).start()\n",
    "    return 'done'\n",
    "\n",
    "print('From 1 s → ≈ 0 s:')\n",
    "%time print(return_slowly(1))\n",
    "%time print(test_thread())\n",
    "\n",
    "# see also:\n",
    "# queue — A synchronized queue class\n",
    "# https://docs.python.org/3.5/library/queue.html"
   ]
  },
  {
   "cell_type": "code",
   "execution_count": 2,
   "metadata": {},
   "outputs": [
    {
     "name": "stdout",
     "output_type": "stream",
     "text": [
      "From 4 s → 1 s:\n",
      "statring task 1\n",
      "statring task 2\n",
      "statring task 3\n",
      "statring task 0\n",
      "statring task 1\n",
      "[0, 1, 2, 3]\n",
      "CPU times: user 7.15 ms, sys: 6.46 ms, total: 13.6 ms\n",
      "Wall time: 1.01 s\n"
     ]
    }
   ],
   "source": [
    "from multiprocessing import Pool\n",
    "\n",
    "pool = Pool(4)\n",
    "\n",
    "def test_pool():\n",
    "    return pool.map(return_slowly, range(4))\n",
    "\n",
    "print('From 4 s → 1 s:')\n",
    "%time print(test_pool())\n",
    "\n",
    "# see also:\n",
    "# subprocess — Subprocess management\n",
    "# https://docs.python.org/3.5/library/subprocess.html\n",
    "\n",
    "# see also:\n",
    "# concurrent.futures — Launching parallel tasks\n",
    "# https://docs.python.org/3.5/library/concurrent.futures.html#module-concurrent.futures"
   ]
  },
  {
   "cell_type": "markdown",
   "metadata": {},
   "source": [
    "# Summary\n",
    "\n",
    "## multithreading\n",
    "\n",
    "1. Basic: `threading`, and `queue`\n",
    "2. Advanced: `concurrent.futures`\n",
    "3. Note the GIL\n",
    "\n",
    "## multiprocessing\n",
    "\n",
    "1. Basic: `subprocess`\n",
    "2. Advanced: `concurrent.futures`\n",
    "3. Fancy: `multiprocessing`"
   ]
  }
 ],
 "metadata": {
  "kernelspec": {
   "display_name": "Python 3",
   "language": "python",
   "name": "python3"
  },
  "language_info": {
   "codemirror_mode": {
    "name": "ipython",
    "version": 3
   },
   "file_extension": ".py",
   "mimetype": "text/x-python",
   "name": "python",
   "nbconvert_exporter": "python",
   "pygments_lexer": "ipython3",
   "version": "3.6.3"
  },
  "toc": {
   "nav_menu": {},
   "number_sections": true,
   "sideBar": true,
   "skip_h1_title": true,
   "toc_cell": false,
   "toc_position": {},
   "toc_section_display": "block",
   "toc_window_display": false
  }
 },
 "nbformat": 4,
 "nbformat_minor": 1
}
