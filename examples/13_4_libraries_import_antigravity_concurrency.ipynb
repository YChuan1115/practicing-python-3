{
 "cells": [
  {
   "cell_type": "code",
   "execution_count": 1,
   "metadata": {},
   "outputs": [],
   "source": [
    "from time import sleep"
   ]
  },
  {
   "cell_type": "code",
   "execution_count": 2,
   "metadata": {},
   "outputs": [],
   "source": [
    "def return_slowly(i):\n",
    "    print(f'Task {i} is starting.')\n",
    "    sleep(1)\n",
    "    print(f'Task {i} is done.')\n",
    "    return i"
   ]
  },
  {
   "cell_type": "markdown",
   "metadata": {},
   "source": [
    "## Threads – `threading`"
   ]
  },
  {
   "cell_type": "code",
   "execution_count": 3,
   "metadata": {},
   "outputs": [],
   "source": [
    "from threading import Thread"
   ]
  },
  {
   "cell_type": "code",
   "execution_count": 4,
   "metadata": {},
   "outputs": [],
   "source": [
    "def test_thread():\n",
    "    Thread(target=return_slowly, args=(1, )).start()"
   ]
  },
  {
   "cell_type": "code",
   "execution_count": 5,
   "metadata": {},
   "outputs": [
    {
     "name": "stdout",
     "output_type": "stream",
     "text": [
      "From 1 s → ≈ 0 s:\n",
      "\n",
      "Task 1 is starting.\n",
      "Task 1 is done.\n",
      "Task 1 is starting.1\n",
      "\n",
      "CPU times: user 2.61 ms, sys: 2.31 ms, total: 4.92 ms\n",
      "Wall time: 1 s\n",
      "\n",
      "None\n",
      "CPU times: user 463 µs, sys: 214 µs, total: 677 µs\n",
      "Wall time: 635 µs\n",
      "\n"
     ]
    }
   ],
   "source": [
    "print('From 1 s → ≈ 0 s:')\n",
    "print()\n",
    "\n",
    "%time print(return_slowly(1))\n",
    "print()\n",
    "\n",
    "%time print(test_thread())\n",
    "print()"
   ]
  },
  {
   "cell_type": "markdown",
   "metadata": {},
   "source": [
    "## Process Pools – `multiprocessing`"
   ]
  },
  {
   "cell_type": "code",
   "execution_count": 6,
   "metadata": {},
   "outputs": [],
   "source": [
    "from multiprocessing import Pool"
   ]
  },
  {
   "cell_type": "code",
   "execution_count": 7,
   "metadata": {},
   "outputs": [
    {
     "name": "stdout",
     "output_type": "stream",
     "text": [
      "Task 2 is starting.\n",
      "Task 1 is starting.\n",
      "Task 0 is starting.\n",
      "Task 3 is starting.\n",
      "Task 1 is done.\n",
      "Task 0 is done.\n",
      "Task 2 is done.\n",
      "Task 3 is done.\n"
     ]
    }
   ],
   "source": [
    "pool = Pool(4)"
   ]
  },
  {
   "cell_type": "code",
   "execution_count": 8,
   "metadata": {},
   "outputs": [
    {
     "name": "stdout",
     "output_type": "stream",
     "text": [
      "From 4 s → 1 s:\n",
      "\n",
      "Task 1 is done.\n",
      "[0, 1, 2, 3]\n",
      "CPU times: user 8.61 ms, sys: 7.16 ms, total: 15.8 ms\n",
      "Wall time: 1.02 s\n"
     ]
    }
   ],
   "source": [
    "print('From 4 s → 1 s:')\n",
    "print()\n",
    "\n",
    "%time print(pool.map(return_slowly, range(4)))"
   ]
  },
  {
   "cell_type": "markdown",
   "metadata": {},
   "source": [
    "## Launching Parallel Tasks Simply – `concurrent.futures`"
   ]
  },
  {
   "cell_type": "code",
   "execution_count": 9,
   "metadata": {},
   "outputs": [],
   "source": [
    "from concurrent.futures import ThreadPoolExecutor"
   ]
  },
  {
   "cell_type": "code",
   "execution_count": 10,
   "metadata": {},
   "outputs": [
    {
     "name": "stdout",
     "output_type": "stream",
     "text": [
      "From 4 s → 1 s:\n",
      "\n",
      "Task 0 is starting.\n",
      "Task 1 is starting.\n",
      "Task 2 is starting.Task 3 is starting.\n",
      "\n",
      "Task 0 is done.\n",
      "Task 1 is done.\n",
      "Task 2 is done.Task 3 is done.\n",
      "\n",
      "[0, 1, 2, 3]\n",
      "CPU times: user 8.93 ms, sys: 5.17 ms, total: 14.1 ms\n",
      "Wall time: 1.02 s\n"
     ]
    }
   ],
   "source": [
    "print('From 4 s → 1 s:')\n",
    "print()\n",
    "\n",
    "with ThreadPoolExecutor() as executor:\n",
    "    %time print(list(executor.map(return_slowly, range(4))))"
   ]
  },
  {
   "cell_type": "markdown",
   "metadata": {},
   "source": [
    "## Summary\n",
    "\n",
    "### Multithreading\n",
    "\n",
    "1. Basic: `threading`, and `queue`\n",
    "2. Advanced: `concurrent.futures`\n",
    "3. Note the GIL\n",
    "\n",
    "### Multiprocessing\n",
    "\n",
    "1. Basic: `subprocess`\n",
    "2. Advanced: `concurrent.futures`\n",
    "3. Fancy: `multiprocessing`\n",
    "\n",
    "Recommend to use `concurrent.futures` first."
   ]
  },
  {
   "cell_type": "markdown",
   "metadata": {},
   "source": [
    "## Dig More\n",
    "\n",
    "* https://docs.python.org/3/library/threading.html\n",
    "* https://docs.python.org/3/library/queue.html\n",
    "* https://docs.python.org/3/library/subprocess.html\n",
    "* https://docs.python.org/3/library/multiprocessing.html\n",
    "* https://docs.python.org/3/library/concurrent.futures.html"
   ]
  }
 ],
 "metadata": {
  "kernelspec": {
   "display_name": "Python 3",
   "language": "python",
   "name": "python3"
  },
  "language_info": {
   "codemirror_mode": {
    "name": "ipython",
    "version": 3
   },
   "file_extension": ".py",
   "mimetype": "text/x-python",
   "name": "python",
   "nbconvert_exporter": "python",
   "pygments_lexer": "ipython3",
   "version": "3.6.3"
  },
  "toc": {
   "nav_menu": {
    "height": "147px",
    "width": "496px"
   },
   "number_sections": true,
   "sideBar": true,
   "skip_h1_title": true,
   "toc_cell": false,
   "toc_position": {},
   "toc_section_display": "block",
   "toc_window_display": false
  }
 },
 "nbformat": 4,
 "nbformat_minor": 1
}
