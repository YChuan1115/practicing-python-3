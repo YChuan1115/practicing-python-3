{
 "cells": [
  {
   "cell_type": "markdown",
   "metadata": {},
   "source": [
    "## re\n",
    "\n",
    "[RE](https://docs.python.org/3.5/library/re.html): regex, regexp, regular expression\n",
    "\n",
    "### Common Functions / Methods\n",
    "\n",
    "1. [fullmatch](https://docs.python.org/3.5/library/re.html#re.fullmatch)\n",
    "2. [match](https://docs.python.org/3.5/library/re.html#re.regex.match)\n",
    "3. [search](https://docs.python.org/3.5/library/re.html#re.regex.search)\n",
    "4. [findall](https://docs.python.org/3.5/library/re.html#re.regex.findall)\n",
    "5. [sub](https://docs.python.org/3.5/library/re.html#re.regex.sub)\n",
    "6. [split](https://docs.python.org/3.5/library/re.html#re.regex.split)\n",
    "7. [compile](https://docs.python.org/3.5/library/re.html#re.compile)\n",
    "\n",
    "### Useful Tool\n",
    "\n",
    "- https://regex101.com/#python"
   ]
  },
  {
   "cell_type": "code",
   "execution_count": 1,
   "metadata": {},
   "outputs": [],
   "source": [
    "import re"
   ]
  },
  {
   "cell_type": "code",
   "execution_count": 2,
   "metadata": {},
   "outputs": [
    {
     "data": {
      "text/plain": [
       "<_sre.SRE_Match object; span=(0, 9), match='127.0.0.1'>"
      ]
     },
     "execution_count": 2,
     "metadata": {},
     "output_type": "execute_result"
    }
   ],
   "source": [
    "# the r prefix means a raw string, not regex\n",
    "match = re.match(r'[0-9]{1,3}(?:\\.[0-9]{1,3}){3}', '127.0.0.1')\n",
    "match # -> match object if match"
   ]
  },
  {
   "cell_type": "code",
   "execution_count": 3,
   "metadata": {},
   "outputs": [
    {
     "data": {
      "text/plain": [
       "<_sre.SRE_Match object; span=(0, 9), match='127.0.0.1'>"
      ]
     },
     "execution_count": 3,
     "metadata": {},
     "output_type": "execute_result"
    }
   ],
   "source": [
    "match = re.match(r'[0-9]{1,3}(?:\\.[0-9]{1,3}){3}', '127.0.0.1aaaa')\n",
    "match"
   ]
  },
  {
   "cell_type": "code",
   "execution_count": 4,
   "metadata": {},
   "outputs": [],
   "source": [
    "match = re.fullmatch(r'[0-9]{1,3}(?:\\.[0-9]{1,3}){3}', 'x.x.x.x')\n",
    "match # -> None if no match"
   ]
  },
  {
   "cell_type": "code",
   "execution_count": 5,
   "metadata": {},
   "outputs": [
    {
     "data": {
      "text/plain": [
       "'127.0.0.1'"
      ]
     },
     "execution_count": 5,
     "metadata": {},
     "output_type": "execute_result"
    }
   ],
   "source": [
    "# more methods of the match object:\n",
    "# https://docs.python.org/3.5/library/re.html#match-objects\n",
    "match = re.fullmatch(r'[0-9]{1,3}(?:\\.[0-9]{1,3}){3}', '127.0.0.1')\n",
    "match.group(0) # -> the first matched group str"
   ]
  },
  {
   "cell_type": "code",
   "execution_count": 6,
   "metadata": {},
   "outputs": [
    {
     "data": {
      "text/plain": [
       "'192.168.0.1'"
      ]
     },
     "execution_count": 6,
     "metadata": {},
     "output_type": "execute_result"
    }
   ],
   "source": [
    "# or compile the re str into a regex object first:\n",
    "# https://docs.python.org/3.5/library/re.html#regular-expression-objects\n",
    "ip_re = re.compile(r'[0-9]{1,3}\\.[0-9]{1,3}\\.[0-9]{1,3}\\.[0-9]{1,3}')\n",
    "match = ip_re.fullmatch('192.168.0.1')\n",
    "match.group(0)"
   ]
  },
  {
   "cell_type": "code",
   "execution_count": 7,
   "metadata": {},
   "outputs": [],
   "source": [
    "raw_text = 'My IP is 127.0.0.1.'"
   ]
  },
  {
   "cell_type": "code",
   "execution_count": 8,
   "metadata": {},
   "outputs": [],
   "source": [
    "match = ip_re.fullmatch(raw_text)\n",
    "match # -> None"
   ]
  },
  {
   "cell_type": "code",
   "execution_count": 9,
   "metadata": {},
   "outputs": [
    {
     "data": {
      "text/plain": [
       "'127.0.0.1'"
      ]
     },
     "execution_count": 9,
     "metadata": {},
     "output_type": "execute_result"
    }
   ],
   "source": [
    "match = ip_re.search(raw_text)\n",
    "match.group(0)"
   ]
  },
  {
   "cell_type": "code",
   "execution_count": 10,
   "metadata": {},
   "outputs": [
    {
     "data": {
      "text/plain": [
       "['127.0.0.1', '127.0.0.2']"
      ]
     },
     "execution_count": 10,
     "metadata": {},
     "output_type": "execute_result"
    }
   ],
   "source": [
    "ip_re.findall('127.0.0.1, 127.0.0.2')"
   ]
  },
  {
   "cell_type": "code",
   "execution_count": 11,
   "metadata": {},
   "outputs": [
    {
     "name": "stdout",
     "output_type": "stream",
     "text": [
      "<_sre.SRE_Match object; span=(0, 9), match='127.0.0.1'>\n",
      "<_sre.SRE_Match object; span=(11, 20), match='127.0.0.2'>\n"
     ]
    }
   ],
   "source": [
    "for m in ip_re.finditer('127.0.0.1, 127.0.0.2'):\n",
    "    print(m)"
   ]
  },
  {
   "cell_type": "markdown",
   "metadata": {},
   "source": [
    "## json\n",
    "\n",
    "[JSON](https://docs.python.org/3.5/library/json.html): JavaScript Object Notation\n",
    "\n",
    "- [load](https://docs.python.org/3.5/library/json.html#json.load)/[loads](https://docs.python.org/3.5/library/json.html#json.loads): JSON → Python object\n",
    "- [dump](https://docs.python.org/3.5/library/json.html#json.dump)/[dumps](https://docs.python.org/3.5/library/json.html#json.dumps): Python object → JSON"
   ]
  },
  {
   "cell_type": "code",
   "execution_count": 12,
   "metadata": {},
   "outputs": [
    {
     "name": "stdout",
     "output_type": "stream",
     "text": [
      "{'locale': {'currency': 'TWD', 'code': 'zh_TW', 'geo_name': '台灣'}, 'result': [{'total': 147, 'user_voted': '', 'vote_option_sum': {'1': 44, '3': 7, '2': 30, '4': 66}}]}\n",
      "147\n"
     ]
    }
   ],
   "source": [
    "import json\n",
    "from pprint import pprint\n",
    "\n",
    "# https://www.pinkoi.com/offers/92\n",
    "json_text = '''{\n",
    "  \"locale\": {\n",
    "    \"currency\": \"TWD\",\n",
    "    \"code\": \"zh_TW\",\n",
    "    \"geo_name\": \"\\u53f0\\u7063\"\n",
    "  },\n",
    "  \"result\": [\n",
    "    {\n",
    "      \"total\": 147,\n",
    "      \"user_voted\": \"\",\n",
    "      \"vote_option_sum\": {\n",
    "        \"1\": 44,\n",
    "        \"3\": 7,\n",
    "        \"2\": 30,\n",
    "        \"4\": 66\n",
    "      }\n",
    "    }\n",
    "  ]\n",
    "}'''\n",
    "\n",
    "d = json.loads(json_text)\n",
    "print(d)\n",
    "print(d['result'][0]['total'])"
   ]
  },
  {
   "cell_type": "markdown",
   "metadata": {},
   "source": [
    "## csv"
   ]
  },
  {
   "cell_type": "code",
   "execution_count": 13,
   "metadata": {},
   "outputs": [
    {
     "name": "stdout",
     "output_type": "stream",
     "text": [
      "moskytw,mosky.tw@gmail.com\n",
      "moskyliu,mosky.liu@pinkoi.com\n",
      "moskybot,mosky.bot@gmail.com\n"
     ]
    },
    {
     "data": {
      "text/plain": [
       "0"
      ]
     },
     "execution_count": 13,
     "metadata": {},
     "output_type": "execute_result"
    }
   ],
   "source": [
    "# make a mock file first\n",
    "\n",
    "from io import StringIO\n",
    " \n",
    "csv_f = StringIO('''\\\n",
    "moskytw,mosky.tw@gmail.com\n",
    "moskyliu,mosky.liu@pinkoi.com\n",
    "moskybot,mosky.bot@gmail.com\\\n",
    "''')\n",
    "# ≈ csv_f = open(path)\n",
    "\n",
    "for line in csv_f:\n",
    "    print(line, end='')\n",
    "print()\n",
    "    \n",
    "csv_f.seek(0)"
   ]
  },
  {
   "cell_type": "code",
   "execution_count": 14,
   "metadata": {},
   "outputs": [
    {
     "name": "stdout",
     "output_type": "stream",
     "text": [
      "[['moskytw', 'mosky.tw@gmail.com'], ['moskyliu', 'mosky.liu@pinkoi.com'], ['moskybot', 'mosky.bot@gmail.com']]\n"
     ]
    }
   ],
   "source": [
    "# read from the file\n",
    "import csv\n",
    "reader = csv.reader(csv_f)\n",
    "rows = [row for row in reader]\n",
    "print(rows)"
   ]
  },
  {
   "cell_type": "code",
   "execution_count": 15,
   "metadata": {},
   "outputs": [
    {
     "name": "stdout",
     "output_type": "stream",
     "text": [
      "moskytw,mosky.tw@gmail.com\r\n",
      "moskyliu,mosky.liu@pinkoi.com\r\n",
      "moskybot,mosky.bot@gmail.com\r\n"
     ]
    }
   ],
   "source": [
    "# write to a file\n",
    "import sys\n",
    "writer = csv.writer(sys.stdout)\n",
    "for row in rows:\n",
    "    writer.writerow(row)\n",
    "    \n",
    "# see also:\n",
    "# csvkit is a suite of utilities for converting to and working with CSV\n",
    "# https://csvkit.readthedocs.org/en/0.9.1/"
   ]
  },
  {
   "cell_type": "markdown",
   "metadata": {},
   "source": [
    "## pickle"
   ]
  },
  {
   "cell_type": "code",
   "execution_count": 16,
   "metadata": {},
   "outputs": [
    {
     "name": "stdout",
     "output_type": "stream",
     "text": [
      "[['moskytw', 'mosky.tw@gmail.com'], ['moskyliu', 'mosky.liu@pinkoi.com'], ['moskybot', 'mosky.bot@gmail.com']]\n",
      "\n",
      "b'\\x80\\x04\\x95s\\x00\\x00\\x00\\x00\\x00\\x00\\x00]\\x94(]\\x94(\\x8c\\x07moskytw\\x94\\x8c\\x12mosky.tw@gmail.com\\x94e]\\x94(\\x8c\\x08moskyliu\\x94\\x8c\\x14mosky.liu@pinkoi.com\\x94e]\\x94(\\x8c\\x08moskybot\\x94\\x8c\\x13mosky.bot@gmail.com\\x94ee.'\n",
      "\n",
      "[['moskytw', 'mosky.tw@gmail.com'], ['moskyliu', 'mosky.liu@pinkoi.com'], ['moskybot', 'mosky.bot@gmail.com']]\n"
     ]
    }
   ],
   "source": [
    "import pickle\n",
    "\n",
    "print(rows)\n",
    "print()\n",
    "\n",
    "# negative to use the pickle.HIGHEST_PROTOCOL\n",
    "dumped_bin = pickle.dumps(rows, protocol=-1)\n",
    "print(dumped_bin)\n",
    "print()\n",
    "\n",
    "print(pickle.loads(dumped_bin))"
   ]
  }
 ],
 "metadata": {
  "kernelspec": {
   "display_name": "Python 3",
   "language": "python",
   "name": "python3"
  },
  "language_info": {
   "codemirror_mode": {
    "name": "ipython",
    "version": 3
   },
   "file_extension": ".py",
   "mimetype": "text/x-python",
   "name": "python",
   "nbconvert_exporter": "python",
   "pygments_lexer": "ipython3",
   "version": "3.6.3"
  },
  "toc": {
   "nav_menu": {},
   "number_sections": true,
   "sideBar": true,
   "skip_h1_title": true,
   "toc_cell": false,
   "toc_position": {},
   "toc_section_display": "block",
   "toc_window_display": false
  }
 },
 "nbformat": 4,
 "nbformat_minor": 1
}
