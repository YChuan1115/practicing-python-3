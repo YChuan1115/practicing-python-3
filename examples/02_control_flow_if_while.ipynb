{
 "cells": [
  {
   "cell_type": "markdown",
   "metadata": {},
   "source": [
    "# 02 Control Flow – If & While\n",
    "\n",
    "## If"
   ]
  },
  {
   "cell_type": "code",
   "execution_count": 1,
   "metadata": {},
   "outputs": [
    {
     "name": "stdout",
     "output_type": "stream",
     "text": [
      "10 is even.\n"
     ]
    }
   ],
   "source": [
    "x = 10\n",
    "if x % 2 == 0:\n",
    "    print(x, 'is even.')\n",
    "else:\n",
    "    print(x, 'is odd.')"
   ]
  },
  {
   "cell_type": "code",
   "execution_count": 2,
   "metadata": {},
   "outputs": [
    {
     "name": "stdout",
     "output_type": "stream",
     "text": [
      "very significant.\n"
     ]
    }
   ],
   "source": [
    "p = 0.005\n",
    "\n",
    "if p < 0.001:\n",
    "    print('extremely significant.')\n",
    "elif p < 0.01:\n",
    "    print('very significant.')\n",
    "elif p < 0.05:\n",
    "    print('significant.')\n",
    "else:\n",
    "    print('not significant')"
   ]
  },
  {
   "cell_type": "code",
   "execution_count": 3,
   "metadata": {},
   "outputs": [
    {
     "name": "stdout",
     "output_type": "stream",
     "text": [
      "very significant.\n"
     ]
    }
   ],
   "source": [
    "# === if 0.001 < p and p <= 0.01:\n",
    "if 0.001 < p <= 0.01:\n",
    "    print('very significant.')"
   ]
  },
  {
   "cell_type": "markdown",
   "metadata": {},
   "source": [
    "### Dig More\n",
    "\n",
    "* https://en.wikipedia.org/wiki/Statistical_significance"
   ]
  },
  {
   "cell_type": "markdown",
   "metadata": {},
   "source": [
    "## While"
   ]
  },
  {
   "cell_type": "code",
   "execution_count": 4,
   "metadata": {},
   "outputs": [
    {
     "name": "stdout",
     "output_type": "stream",
     "text": [
      "count: 2.\n",
      "count: 1.\n",
      "count: 0.\n"
     ]
    }
   ],
   "source": [
    "count = 3\n",
    "# using the truth value testing\n",
    "while count:\n",
    "    count -= 1\n",
    "    print(f'count: {count}.')"
   ]
  }
 ],
 "metadata": {
  "kernelspec": {
   "display_name": "Python 3 (practicing-python-3)",
   "language": "python",
   "name": "python3-practicing-python-3"
  },
  "language_info": {
   "codemirror_mode": {
    "name": "ipython",
    "version": 3
   },
   "file_extension": ".py",
   "mimetype": "text/x-python",
   "name": "python",
   "nbconvert_exporter": "python",
   "pygments_lexer": "ipython3",
   "version": "3.6.2"
  },
  "toc": {
   "nav_menu": {},
   "number_sections": true,
   "sideBar": true,
   "skip_h1_title": true,
   "toc_cell": false,
   "toc_position": {},
   "toc_section_display": "block",
   "toc_window_display": false
  }
 },
 "nbformat": 4,
 "nbformat_minor": 2
}
