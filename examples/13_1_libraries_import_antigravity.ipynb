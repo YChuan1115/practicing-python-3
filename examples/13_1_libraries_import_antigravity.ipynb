{
 "cells": [
  {
   "cell_type": "code",
   "execution_count": 1,
   "metadata": {
    "scrolled": true
   },
   "outputs": [
    {
     "name": "stdout",
     "output_type": "stream",
     "text": [
      "3.6.2 (default, Jul 17 2017, 16:44:45) \n",
      "[GCC 4.2.1 Compatible Apple LLVM 8.1.0 (clang-802.0.42)]\n",
      "\n",
      "sys.version_info(major=3, minor=6, micro=2, releaselevel='final', serial=0)\n"
     ]
    }
   ],
   "source": [
    "# sys means the Python interpreter\n",
    "import sys\n",
    "\n",
    "print(sys.version)\n",
    "print()\n",
    "print(sys.version_info)"
   ]
  },
  {
   "cell_type": "code",
   "execution_count": 2,
   "metadata": {},
   "outputs": [
    {
     "name": "stdout",
     "output_type": "stream",
     "text": [
      "name: posix\n",
      "cwd: /Users/mosky/Dropbox/Projects/Practicing Python 3/examples\n",
      "uid: 501\n",
      "pid: 2051\n"
     ]
    }
   ],
   "source": [
    "# os is the operating system which Python runs on\n",
    "import os\n",
    "\n",
    "print('name:', os.name)\n",
    "print('cwd:', os.getcwd())\n",
    "print('uid:', os.getuid())\n",
    "print('pid:', os.getpid())\n",
    "# os.chdir(...)\n",
    "# os.link(...)\n",
    "# os.mkdir(...)\n",
    "# os.remove(...)\n",
    "# os.fork(...)"
   ]
  },
  {
   "cell_type": "code",
   "execution_count": 3,
   "metadata": {},
   "outputs": [
    {
     "name": "stdout",
     "output_type": "stream",
     "text": [
      "abs: /Users/mosky/Dropbox/Projects/Practicing Python 3/examples/tmp\n",
      "base: a_file\n",
      "dir: path/to\n",
      "exists: False\n"
     ]
    },
    {
     "data": {
      "text/plain": [
       "'/a'"
      ]
     },
     "execution_count": 3,
     "metadata": {},
     "output_type": "execute_result"
    }
   ],
   "source": [
    "from os.path import *\n",
    "\n",
    "print('abs:', abspath('tmp/'))\n",
    "print('base:', basename('path/to/a_file'))\n",
    "print('dir:', dirname('path/to/a_file'))\n",
    "print('exists:', exists('./a'))\n",
    "\n",
    "\n",
    "from pathlib import Path\n",
    "str(Path('/') / Path('a'))"
   ]
  },
  {
   "cell_type": "code",
   "execution_count": 4,
   "metadata": {},
   "outputs": [
    {
     "name": "stdout",
     "output_type": "stream",
     "text": [
      "['__all__', '__builtins__', '__cached__', '__doc__', '__file__', '__loader__', '__name__', '__package__', '__spec__', '_glob0', '_glob1', '_glob2', '_iglob', '_ishidden', '_isrecursive', '_iterdir', '_rlistdir', 'escape', 'fnmatch', 'glob', 'glob0', 'glob1', 'has_magic', 'iglob', 'magic_check', 'magic_check_bytes', 'os', 're']\n",
      "['09_libraries_command_line_arguments.py']\n"
     ]
    }
   ],
   "source": [
    "import glob\n",
    "print(dir(glob))\n",
    "\n",
    "from glob import glob\n",
    "\n",
    "print(glob('*.py'))"
   ]
  },
  {
   "cell_type": "code",
   "execution_count": 5,
   "metadata": {},
   "outputs": [
    {
     "name": "stdout",
     "output_type": "stream",
     "text": [
      "PosixPath('/etc/init.d/reboot')\n",
      "/etc/init.d/reboot\n",
      "['__bytes__', '__class__', '__delattr__', '__dir__', '__doc__', '__enter__', '__eq__', '__exit__', '__format__', '__fspath__', '__ge__', '__getattribute__', '__gt__', '__hash__', '__init__', '__init_subclass__', '__le__', '__lt__', '__module__', '__ne__', '__new__', '__reduce__', '__reduce_ex__', '__repr__', '__rtruediv__', '__setattr__', '__sizeof__', '__slots__', '__str__', '__subclasshook__', '__truediv__', '_accessor', '_cached_cparts', '_closed', '_cparts', '_drv', '_flavour', '_format_parsed_parts', '_from_parsed_parts', '_from_parts', '_hash', '_init', '_make_child', '_make_child_relpath', '_opener', '_parse_args', '_parts', '_pparts', '_raise_closed', '_raw_open', '_root', '_str', 'absolute', 'anchor', 'as_posix', 'as_uri', 'chmod', 'cwd', 'drive', 'exists', 'expanduser', 'glob', 'group', 'home', 'is_absolute', 'is_block_device', 'is_char_device', 'is_dir', 'is_fifo', 'is_file', 'is_reserved', 'is_socket', 'is_symlink', 'iterdir', 'joinpath', 'lchmod', 'lstat', 'match', 'mkdir', 'name', 'open', 'owner', 'parent', 'parents', 'parts', 'read_bytes', 'read_text', 'relative_to', 'rename', 'replace', 'resolve', 'rglob', 'rmdir', 'root', 'samefile', 'stat', 'stem', 'suffix', 'suffixes', 'symlink_to', 'touch', 'unlink', 'with_name', 'with_suffix', 'write_bytes', 'write_text']\n"
     ]
    }
   ],
   "source": [
    "from pathlib import Path\n",
    "\n",
    "p = Path('/etc')\n",
    "q = p / 'init.d' / 'reboot'\n",
    "print(repr(q))\n",
    "print(q)\n",
    "print(dir(q))"
   ]
  },
  {
   "cell_type": "code",
   "execution_count": 6,
   "metadata": {},
   "outputs": [
    {
     "name": "stdout",
     "output_type": "stream",
     "text": [
      "choice: orange\n",
      "\n",
      "before shuffle: [0, 1, 2, 3, 4, 5, 6, 7, 8, 9]\n",
      "after shuffle: [7, 9, 1, 0, 6, 8, 4, 3, 5, 2]\n",
      "\n",
      "randrange: 2\n",
      "randint: 2\n",
      "\n",
      "sample: [4, 7, 1]\n"
     ]
    }
   ],
   "source": [
    "from random import *\n",
    "\n",
    "my_range = range(10)\n",
    "\n",
    "print('choice:', choice(['apple', 'orange']))\n",
    "print()\n",
    "\n",
    "# random.shuffle(my_range) # -> TypeError: 'range' object does not support item assignment\n",
    "my_list = list(my_range)\n",
    "print('before shuffle:', my_list)\n",
    "shuffle(my_list) # -> None\n",
    "print('after shuffle:', my_list)\n",
    "print()\n",
    "\n",
    "print('randrange:', randrange(1, 3))\n",
    "print('randint:', randint(1, 3)) # alias for randrange(a, b+1)\n",
    "print()\n",
    "\n",
    "print('sample:', sample(my_range, 3))"
   ]
  }
 ],
 "metadata": {
  "kernelspec": {
   "display_name": "Python 3",
   "language": "python",
   "name": "python3"
  },
  "language_info": {
   "codemirror_mode": {
    "name": "ipython",
    "version": 3
   },
   "file_extension": ".py",
   "mimetype": "text/x-python",
   "name": "python",
   "nbconvert_exporter": "python",
   "pygments_lexer": "ipython3",
   "version": "3.6.2"
  },
  "toc": {
   "nav_menu": {},
   "number_sections": true,
   "sideBar": true,
   "skip_h1_title": true,
   "toc_cell": false,
   "toc_position": {},
   "toc_section_display": "block",
   "toc_window_display": false
  }
 },
 "nbformat": 4,
 "nbformat_minor": 1
}
