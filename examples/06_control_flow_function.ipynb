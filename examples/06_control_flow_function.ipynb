{
 "cells": [
  {
   "cell_type": "markdown",
   "metadata": {},
   "source": [
    "# Control Flow – Function\n",
    "\n",
    "## Functions Are Bricks"
   ]
  },
  {
   "cell_type": "code",
   "execution_count": 1,
   "metadata": {},
   "outputs": [],
   "source": [
    "def is_prime(n):\n",
    "\n",
    "    if n <= 1:\n",
    "        return False\n",
    "\n",
    "    for i in range(2, n):\n",
    "        if n % i == 0:\n",
    "            return False\n",
    "\n",
    "    return True"
   ]
  },
  {
   "cell_type": "code",
   "execution_count": 2,
   "metadata": {},
   "outputs": [
    {
     "name": "stdout",
     "output_type": "stream",
     "text": [
      "2 is a prime.\n",
      "3 is a prime.\n",
      "5 is a prime.\n",
      "7 is a prime.\n"
     ]
    }
   ],
   "source": [
    "for n in range(10):\n",
    "    if is_prime(n):\n",
    "        print(n, 'is a prime.')"
   ]
  },
  {
   "cell_type": "code",
   "execution_count": 3,
   "metadata": {},
   "outputs": [],
   "source": [
    "def print_n_add(a, b):\n",
    "    '''Print a, b, and add them.\n",
    "    \n",
    "    * a, b: anything supporting +\n",
    "    '''\n",
    "\n",
    "    print('a  :', a)\n",
    "    print('b  :', b)\n",
    "    print('a+b:', a+b)\n",
    "    print()\n",
    "\n",
    "    return a+b\n",
    "\n",
    "\n",
    "def inc(x, delta=1):\n",
    "    return x+delta\n",
    "\n",
    "\n",
    "def print_args(positional_1, positional_2, *positional_others, keyword_only, **other_keywords):\n",
    "    print('positional_1:', positional_1)\n",
    "    print('positional_2:', positional_2)\n",
    "    print('positional_others:', positional_others)\n",
    "    print('keyword_only:', keyword_only)\n",
    "    print('other_keywords:', other_keywords)"
   ]
  },
  {
   "cell_type": "markdown",
   "metadata": {},
   "source": [
    "## When Calling Function\n",
    "\n",
    "### Keyword Arguments"
   ]
  },
  {
   "cell_type": "code",
   "execution_count": 4,
   "metadata": {},
   "outputs": [
    {
     "name": "stdout",
     "output_type": "stream",
     "text": [
      "a  : 1\n",
      "b  : 2\n",
      "a+b: 3\n",
      "\n",
      "a  : 1\n",
      "b  : 2\n",
      "a+b: 3\n",
      "\n",
      "a  : 1\n",
      "b  : 2\n",
      "a+b: 3\n",
      "\n"
     ]
    },
    {
     "data": {
      "text/plain": [
       "3"
      ]
     },
     "execution_count": 4,
     "metadata": {},
     "output_type": "execute_result"
    }
   ],
   "source": [
    "print_n_add(1, 2)\n",
    "print_n_add(b=2, a=1)\n",
    "print_n_add(1, b=2)"
   ]
  },
  {
   "cell_type": "markdown",
   "metadata": {},
   "source": [
    "### Unpacking Argument List"
   ]
  },
  {
   "cell_type": "code",
   "execution_count": 5,
   "metadata": {},
   "outputs": [
    {
     "name": "stdout",
     "output_type": "stream",
     "text": [
      "a  : 1\n",
      "b  : 2\n",
      "a+b: 3\n",
      "\n",
      "a  : 1\n",
      "b  : 2\n",
      "a+b: 3\n",
      "\n"
     ]
    },
    {
     "data": {
      "text/plain": [
       "3"
      ]
     },
     "execution_count": 5,
     "metadata": {},
     "output_type": "execute_result"
    }
   ],
   "source": [
    "seq = [1, 2]\n",
    "print_n_add(*seq)\n",
    "\n",
    "# print_n_add(seq)\n",
    "# === print_n_add([1, 2])\n",
    "\n",
    "# print_n_add(*seq)\n",
    "# === print_n_add(1, 2)\n",
    "\n",
    "map_ = {'a': 1, 'b': 2}\n",
    "print_n_add(**map_)"
   ]
  },
  {
   "cell_type": "markdown",
   "metadata": {},
   "source": [
    "## When Defining Function\n",
    "\n",
    "### Default Values"
   ]
  },
  {
   "cell_type": "code",
   "execution_count": 6,
   "metadata": {},
   "outputs": [
    {
     "name": "stdout",
     "output_type": "stream",
     "text": [
      "2\n",
      "101\n"
     ]
    }
   ],
   "source": [
    "print(inc(1))\n",
    "print(inc(1, 100))"
   ]
  },
  {
   "cell_type": "markdown",
   "metadata": {},
   "source": [
    "### Arbitrary Argument List"
   ]
  },
  {
   "cell_type": "code",
   "execution_count": 7,
   "metadata": {},
   "outputs": [
    {
     "name": "stdout",
     "output_type": "stream",
     "text": [
      "positional_1: 1\n",
      "positional_2: 2\n",
      "positional_others: ()\n",
      "keyword_only: k_1\n",
      "other_keywords: {}\n"
     ]
    }
   ],
   "source": [
    "print_args(1, 2, keyword_only='k_1')"
   ]
  },
  {
   "cell_type": "code",
   "execution_count": 8,
   "metadata": {},
   "outputs": [
    {
     "name": "stdout",
     "output_type": "stream",
     "text": [
      "positional_1: 1\n",
      "positional_2: 2\n",
      "positional_others: (3,)\n",
      "keyword_only: k_1\n",
      "other_keywords: {'keyword_2': 'k_2'}\n"
     ]
    }
   ],
   "source": [
    "print_args(1, 2, 3, keyword_only='k_1', keyword_2='k_2')"
   ]
  },
  {
   "cell_type": "markdown",
   "metadata": {},
   "source": [
    "### Use Immutable Type as Default Value"
   ]
  },
  {
   "cell_type": "code",
   "execution_count": 9,
   "metadata": {},
   "outputs": [],
   "source": [
    "def bad_default_value_f(l=[]):\n",
    "    l.append(1)\n",
    "    return l"
   ]
  },
  {
   "cell_type": "code",
   "execution_count": 10,
   "metadata": {},
   "outputs": [
    {
     "name": "stdout",
     "output_type": "stream",
     "text": [
      "[1]\n",
      "[1, 1]\n",
      "[1, 1, 1]\n"
     ]
    }
   ],
   "source": [
    "print(bad_default_value_f())\n",
    "print(bad_default_value_f())\n",
    "print(bad_default_value_f())"
   ]
  },
  {
   "cell_type": "code",
   "execution_count": 11,
   "metadata": {},
   "outputs": [],
   "source": [
    "def better_default_value_f(l=None):\n",
    "    if l is None:\n",
    "        l = []\n",
    "    l.append(1)\n",
    "    return l"
   ]
  },
  {
   "cell_type": "code",
   "execution_count": 12,
   "metadata": {},
   "outputs": [
    {
     "name": "stdout",
     "output_type": "stream",
     "text": [
      "[1]\n",
      "[1]\n",
      "[1]\n"
     ]
    }
   ],
   "source": [
    "print(better_default_value_f())\n",
    "print(better_default_value_f())\n",
    "print(better_default_value_f())"
   ]
  },
  {
   "cell_type": "markdown",
   "metadata": {},
   "source": [
    "If using `None`, the caller is easier to explicitly use the default value."
   ]
  },
  {
   "cell_type": "markdown",
   "metadata": {},
   "source": [
    "## Using Duck Typing to Max the Flexibility"
   ]
  },
  {
   "cell_type": "code",
   "execution_count": 13,
   "metadata": {},
   "outputs": [
    {
     "name": "stdout",
     "output_type": "stream",
     "text": [
      "a  : 1\n",
      "b  : 2\n",
      "a+b: 3\n",
      "\n",
      "a  : 1.0\n",
      "b  : 2.0\n",
      "a+b: 3.0\n",
      "\n",
      "a  : a\n",
      "b  : b\n",
      "a+b: ab\n",
      "\n"
     ]
    },
    {
     "data": {
      "text/plain": [
       "'ab'"
      ]
     },
     "execution_count": 13,
     "metadata": {},
     "output_type": "execute_result"
    }
   ],
   "source": [
    "print_n_add(1, 2)\n",
    "print_n_add(1., 2.)\n",
    "print_n_add('a', 'b')"
   ]
  },
  {
   "cell_type": "code",
   "execution_count": 14,
   "metadata": {},
   "outputs": [],
   "source": [
    "def sum_args(*args):\n",
    "    '''Sum variables.\n",
    "\n",
    "    The arg can be any object which supports += delimiter.\n",
    "    '''\n",
    "\n",
    "    # https://docs.python.org/3/library/stdtypes.html#iterator-types\n",
    "    args_it = iter(args)\n",
    "    ret_val = next(args_it)\n",
    "    for arg in args_it:\n",
    "        ret_val += arg\n",
    "\n",
    "    return ret_val"
   ]
  },
  {
   "cell_type": "code",
   "execution_count": 15,
   "metadata": {},
   "outputs": [
    {
     "name": "stdout",
     "output_type": "stream",
     "text": [
      "6\n",
      "abc\n"
     ]
    }
   ],
   "source": [
    "print(sum_args(1, 2, 3))\n",
    "print(sum_args('a', 'b' 'c'))"
   ]
  },
  {
   "cell_type": "markdown",
   "metadata": {},
   "source": [
    "## Using Docstrings to Cooperate"
   ]
  },
  {
   "cell_type": "code",
   "execution_count": 16,
   "metadata": {},
   "outputs": [
    {
     "name": "stdout",
     "output_type": "stream",
     "text": [
      "Help on function print_n_add in module __main__:\n",
      "\n",
      "print_n_add(a, b)\n",
      "    Print a, b, and add them.\n",
      "    \n",
      "    * a, b: anything supporting +\n",
      "\n"
     ]
    }
   ],
   "source": [
    "help(print_n_add)"
   ]
  },
  {
   "cell_type": "markdown",
   "metadata": {},
   "source": [
    "### The Jupyter Notebook Way"
   ]
  },
  {
   "cell_type": "code",
   "execution_count": 17,
   "metadata": {},
   "outputs": [],
   "source": [
    "# print_n_add?"
   ]
  },
  {
   "cell_type": "code",
   "execution_count": 18,
   "metadata": {},
   "outputs": [],
   "source": [
    "# print_n_add??"
   ]
  },
  {
   "cell_type": "markdown",
   "metadata": {},
   "source": [
    "## Small Functions – `lambda`"
   ]
  },
  {
   "cell_type": "code",
   "execution_count": 19,
   "metadata": {},
   "outputs": [],
   "source": [
    "items = ['Python', 'Ruby', 'JavaScript']"
   ]
  },
  {
   "cell_type": "code",
   "execution_count": 20,
   "metadata": {},
   "outputs": [
    {
     "data": {
      "text/plain": [
       "['JavaScript', 'Python', 'Ruby']"
      ]
     },
     "execution_count": 20,
     "metadata": {},
     "output_type": "execute_result"
    }
   ],
   "source": [
    "items.sort()\n",
    "items"
   ]
  },
  {
   "cell_type": "code",
   "execution_count": 21,
   "metadata": {},
   "outputs": [
    {
     "data": {
      "text/plain": [
       "['Ruby', 'Python', 'JavaScript']"
      ]
     },
     "execution_count": 21,
     "metadata": {},
     "output_type": "execute_result"
    }
   ],
   "source": [
    "items.sort(key=len)\n",
    "items"
   ]
  },
  {
   "cell_type": "code",
   "execution_count": 22,
   "metadata": {},
   "outputs": [
    {
     "data": {
      "text/plain": [
       "['Python', 'Ruby', 'JavaScript']"
      ]
     },
     "execution_count": 22,
     "metadata": {},
     "output_type": "execute_result"
    }
   ],
   "source": [
    "item_weight_map = {'Python': -90, 'Ruby': -50}\n",
    "items.sort(\n",
    "    key=lambda item: item_weight_map.get(item, 0)\n",
    ")\n",
    "items"
   ]
  },
  {
   "cell_type": "markdown",
   "metadata": {},
   "source": [
    "## Beautiful Functions – Decorator"
   ]
  },
  {
   "cell_type": "code",
   "execution_count": 23,
   "metadata": {},
   "outputs": [],
   "source": [
    "def debugee_f(arg):\n",
    "    print('Do something ...')\n",
    "    return arg"
   ]
  },
  {
   "cell_type": "code",
   "execution_count": 24,
   "metadata": {},
   "outputs": [
    {
     "name": "stdout",
     "output_type": "stream",
     "text": [
      "Do something ...\n"
     ]
    },
    {
     "data": {
      "text/plain": [
       "1"
      ]
     },
     "execution_count": 24,
     "metadata": {},
     "output_type": "execute_result"
    }
   ],
   "source": [
    "debugee_f(1)"
   ]
  },
  {
   "cell_type": "code",
   "execution_count": 25,
   "metadata": {},
   "outputs": [],
   "source": [
    "def print_arg_n_call(f):\n",
    "    \n",
    "    def wrapped_f(*args, **kwargs):\n",
    "    \n",
    "        print('args:', args)\n",
    "        print('kwargs:', kwargs)\n",
    "        print()\n",
    "        \n",
    "        return f(*args, **kwargs)\n",
    "    \n",
    "    return wrapped_f"
   ]
  },
  {
   "cell_type": "code",
   "execution_count": 26,
   "metadata": {},
   "outputs": [],
   "source": [
    "wrapped_debugee_f = print_arg_n_call(debugee_f)"
   ]
  },
  {
   "cell_type": "code",
   "execution_count": 27,
   "metadata": {},
   "outputs": [
    {
     "name": "stdout",
     "output_type": "stream",
     "text": [
      "args: (2,)\n",
      "kwargs: {}\n",
      "\n",
      "Do something ...\n"
     ]
    },
    {
     "data": {
      "text/plain": [
       "2"
      ]
     },
     "execution_count": 27,
     "metadata": {},
     "output_type": "execute_result"
    }
   ],
   "source": [
    "wrapped_debugee_f(2)"
   ]
  },
  {
   "cell_type": "code",
   "execution_count": 28,
   "metadata": {},
   "outputs": [],
   "source": [
    "@print_arg_n_call  # <- decorator\n",
    "def debuggee_g(arg):\n",
    "    print('Do other things ...')\n",
    "    return arg"
   ]
  },
  {
   "cell_type": "code",
   "execution_count": 29,
   "metadata": {},
   "outputs": [
    {
     "name": "stdout",
     "output_type": "stream",
     "text": [
      "args: (3,)\n",
      "kwargs: {}\n",
      "\n",
      "Do other things ...\n"
     ]
    },
    {
     "data": {
      "text/plain": [
       "3"
      ]
     },
     "execution_count": 29,
     "metadata": {},
     "output_type": "execute_result"
    }
   ],
   "source": [
    "debuggee_g(3)"
   ]
  }
 ],
 "metadata": {
  "kernelspec": {
   "display_name": "Python 3 (practicing-python-3)",
   "language": "python",
   "name": "python3-practicing-python-3"
  },
  "language_info": {
   "codemirror_mode": {
    "name": "ipython",
    "version": 3
   },
   "file_extension": ".py",
   "mimetype": "text/x-python",
   "name": "python",
   "nbconvert_exporter": "python",
   "pygments_lexer": "ipython3",
   "version": "3.6.3"
  },
  "toc": {
   "nav_menu": {
    "height": "217px",
    "width": "277px"
   },
   "number_sections": true,
   "sideBar": true,
   "skip_h1_title": true,
   "toc_cell": false,
   "toc_position": {},
   "toc_section_display": "block",
   "toc_window_display": false
  }
 },
 "nbformat": 4,
 "nbformat_minor": 2
}
