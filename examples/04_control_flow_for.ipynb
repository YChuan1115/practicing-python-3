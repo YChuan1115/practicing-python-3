{
 "cells": [
  {
   "cell_type": "markdown",
   "metadata": {},
   "source": [
    "# 04 Control Flow – For"
   ]
  },
  {
   "cell_type": "code",
   "execution_count": 1,
   "metadata": {},
   "outputs": [
    {
     "name": "stdout",
     "output_type": "stream",
     "text": [
      "0 1 2 3 4 5 6 7 8 9 \n"
     ]
    }
   ],
   "source": [
    "for i in range(10):\n",
    "    print(i, end=' ')\n",
    "print()"
   ]
  },
  {
   "cell_type": "code",
   "execution_count": 2,
   "metadata": {},
   "outputs": [
    {
     "name": "stdout",
     "output_type": "stream",
     "text": [
      "         \n",
      "        *\n",
      "       ***\n",
      "      *****\n",
      "     *******\n",
      "    *********\n",
      "   ***********\n",
      "  *************\n",
      " ***************\n",
      "*****************\n"
     ]
    }
   ],
   "source": [
    "n = 10\n",
    "for i in range(n):\n",
    "    print(' '*(n-i-1) + '*'*(i*2-1))"
   ]
  },
  {
   "cell_type": "code",
   "execution_count": 3,
   "metadata": {},
   "outputs": [
    {
     "name": "stdout",
     "output_type": "stream",
     "text": [
      "mosky.liu\n",
      "mosky.bot\n"
     ]
    }
   ],
   "source": [
    "id_name_map = {\n",
    "    'mosky.liu': 'Mosky Liu',\n",
    "    'mosky.bot': 'Mosky Bot'\n",
    "}\n",
    "\n",
    "# for ... in <any iterable object>:\n",
    "# iterable objects: str, list, tuple, range, set, dict, etc.\n",
    "for id_ in id_name_map:\n",
    "    print(id_)"
   ]
  },
  {
   "cell_type": "code",
   "execution_count": 4,
   "metadata": {},
   "outputs": [
    {
     "name": "stdout",
     "output_type": "stream",
     "text": [
      "mosky.liu: Mosky Liu\n",
      "mosky.bot: Mosky Bot\n"
     ]
    }
   ],
   "source": [
    "for id_, name in id_name_map.items():\n",
    "    print(f'{id_}: {name}')"
   ]
  },
  {
   "cell_type": "code",
   "execution_count": 5,
   "metadata": {},
   "outputs": [
    {
     "name": "stdout",
     "output_type": "stream",
     "text": [
      "0 a\n",
      "1 b\n",
      "2 c\n"
     ]
    }
   ],
   "source": [
    "# https://docs.python.org/3/library/functions.html#zip\n",
    "for i, c in zip(range(3), 'abc'):\n",
    "    print(i, c)"
   ]
  },
  {
   "cell_type": "code",
   "execution_count": 6,
   "metadata": {},
   "outputs": [
    {
     "name": "stdout",
     "output_type": "stream",
     "text": [
      "0 a\n",
      "1 b\n",
      "2 c\n"
     ]
    }
   ],
   "source": [
    "# https://docs.python.org/3/library/functions.html#enumerate\n",
    "for i, c in enumerate('abc'):\n",
    "    print(i, c)"
   ]
  },
  {
   "cell_type": "code",
   "execution_count": 7,
   "metadata": {},
   "outputs": [
    {
     "name": "stdout",
     "output_type": "stream",
     "text": [
      "10 a\n",
      "11 b\n",
      "12 c\n"
     ]
    }
   ],
   "source": [
    "for i, c in enumerate('abc', start=10):\n",
    "    print(i, c)"
   ]
  },
  {
   "cell_type": "code",
   "execution_count": 8,
   "metadata": {},
   "outputs": [
    {
     "name": "stdout",
     "output_type": "stream",
     "text": [
      "2 is a prime.\n",
      "3 is a prime.\n",
      "5 is a prime.\n",
      "7 is a prime.\n"
     ]
    }
   ],
   "source": [
    "# https://en.wikipedia.org/wiki/Prime_number\n",
    "for n in range(2, 10):\n",
    "    for i in range(2, n):\n",
    "        if n % i == 0:\n",
    "            # break the whole loop\n",
    "            break\n",
    "    else:  # loop ... else!\n",
    "        print(n, 'is a prime.')"
   ]
  },
  {
   "cell_type": "code",
   "execution_count": 9,
   "metadata": {},
   "outputs": [
    {
     "name": "stdout",
     "output_type": "stream",
     "text": [
      "Retry task for mosky.\n"
     ]
    }
   ],
   "source": [
    "id_task_succeed_map = {\n",
    "    'mosky': False,\n",
    "    'apple': True,\n",
    "    'orange': True,\n",
    "}\n",
    "\n",
    "for id_, task_succeed in id_task_succeed_map.items():\n",
    "    \n",
    "    if task_succeed:\n",
    "        # continue to the next iteration\n",
    "        continue\n",
    "        \n",
    "    print(f'Retry task for {id_}.')"
   ]
  },
  {
   "cell_type": "code",
   "execution_count": 10,
   "metadata": {
    "collapsed": true
   },
   "outputs": [],
   "source": [
    "# pass DOES nothing\n",
    "for i in range(10):\n",
    "    pass"
   ]
  },
  {
   "cell_type": "markdown",
   "metadata": {},
   "source": [
    "## Visualize Execution\n",
    "\n",
    "→ https://goo.gl/R1Wt8P"
   ]
  }
 ],
 "metadata": {
  "kernelspec": {
   "display_name": "Python 3 (practicing-python-3)",
   "language": "python",
   "name": "python3-practicing-python-3"
  },
  "language_info": {
   "codemirror_mode": {
    "name": "ipython",
    "version": 3
   },
   "file_extension": ".py",
   "mimetype": "text/x-python",
   "name": "python",
   "nbconvert_exporter": "python",
   "pygments_lexer": "ipython3",
   "version": "3.6.2"
  },
  "toc": {
   "nav_menu": {},
   "number_sections": true,
   "sideBar": true,
   "skip_h1_title": true,
   "toc_cell": false,
   "toc_position": {},
   "toc_section_display": "block",
   "toc_window_display": false
  }
 },
 "nbformat": 4,
 "nbformat_minor": 2
}
