{
 "cells": [
  {
   "cell_type": "code",
   "execution_count": 1,
   "metadata": {},
   "outputs": [],
   "source": [
    "import requests\n",
    "from bs4 import BeautifulSoup"
   ]
  },
  {
   "cell_type": "code",
   "execution_count": 2,
   "metadata": {},
   "outputs": [
    {
     "data": {
      "text/plain": [
       "<Response [200]>"
      ]
     },
     "execution_count": 2,
     "metadata": {},
     "output_type": "execute_result"
    }
   ],
   "source": [
    "resp = requests.get('https://tw.news.yahoo.com/world')\n",
    "resp"
   ]
  },
  {
   "cell_type": "code",
   "execution_count": 3,
   "metadata": {},
   "outputs": [
    {
     "data": {
      "text/plain": [
       "True"
      ]
     },
     "execution_count": 3,
     "metadata": {},
     "output_type": "execute_result"
    }
   ],
   "source": [
    "'最多人瀏覽' in resp.text"
   ]
  },
  {
   "cell_type": "code",
   "execution_count": 4,
   "metadata": {},
   "outputs": [],
   "source": [
    "bsoup = BeautifulSoup(resp.text, 'html.parser')"
   ]
  },
  {
   "cell_type": "code",
   "execution_count": 5,
   "metadata": {},
   "outputs": [
    {
     "data": {
      "text/plain": [
       "<a class=\"D(ib) Ov(h) Whs(nw) C($c-fuji-grey-l) C($c-fuji-blue-1-c):h Td(n) Fz(16px) Tov(e) Fw(700)\" data-reactid=\"14\" href=\"/%E4%B8%AD%E5%9C%8B%E5%AF%A7%E6%B3%A2%E7%99%BC%E7%94%9F%E5%A4%A7%E7%88%86%E7%82%B8-%E7%8F%BE%E5%A0%B4%E5%8D%87%E8%B5%B7%E8%95%88%E7%8B%80%E9%9B%B2-2%E6%AD%BB2%E9%87%8D%E5%82%B7-30%E5%A4%9A%E4%BA%BA%E9%80%81%E9%86%AB%E6%80%A5%E6%95%91-041823807.html\" style=\"max-width:265px;width:calc(100% - 11px - 0px);\">中國寧波大爆炸 現場驚見蕈狀雲</a>"
      ]
     },
     "execution_count": 5,
     "metadata": {},
     "output_type": "execute_result"
    }
   ],
   "source": [
    "a_tags = bsoup.select('div > ul > ul > li > a')\n",
    "a_tags[0]"
   ]
  },
  {
   "cell_type": "code",
   "execution_count": 6,
   "metadata": {},
   "outputs": [
    {
     "data": {
      "text/plain": [
       "'中國寧波大爆炸 現場驚見蕈狀雲'"
      ]
     },
     "execution_count": 6,
     "metadata": {},
     "output_type": "execute_result"
    }
   ],
   "source": [
    "a_tags[0].text"
   ]
  },
  {
   "cell_type": "code",
   "execution_count": 7,
   "metadata": {},
   "outputs": [
    {
     "name": "stdout",
     "output_type": "stream",
     "text": [
      "中國寧波大爆炸 現場驚見蕈狀雲\n",
      "31人溺斃 地中海移民悲歌再起\n",
      "「中國人禁止進入」惹議 日化妝品牌POLA道歉懲處\n",
      "日媒：上海將建東京審判紀念館\n",
      "印媒：印度中印邊界修路  確保快速運兵\n",
      "德社民黨加入協商 梅克爾表歡迎\n",
      "比利時反販奴示威變調  警察遇襲\n",
      "感恩節大屠殺　牧師開槍怒殺一家三口\n",
      "對美國「以牙還牙」　普京要列海外媒體為外國代理人　\n",
      "利馬女性走上街頭 抗議女性暴力問題\n"
     ]
    }
   ],
   "source": [
    "for t in a_tags:\n",
    "    print(t.text)"
   ]
  }
 ],
 "metadata": {
  "kernelspec": {
   "display_name": "Python 3 (practicing-python-3)",
   "language": "python",
   "name": "python3-practicing-python-3"
  },
  "language_info": {
   "codemirror_mode": {
    "name": "ipython",
    "version": 3
   },
   "file_extension": ".py",
   "mimetype": "text/x-python",
   "name": "python",
   "nbconvert_exporter": "python",
   "pygments_lexer": "ipython3",
   "version": "3.6.3"
  },
  "toc": {
   "nav_menu": {},
   "number_sections": true,
   "sideBar": true,
   "skip_h1_title": true,
   "toc_cell": false,
   "toc_position": {},
   "toc_section_display": "block",
   "toc_window_display": false
  }
 },
 "nbformat": 4,
 "nbformat_minor": 1
}
