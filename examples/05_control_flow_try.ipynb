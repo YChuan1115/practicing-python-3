{
 "cells": [
  {
   "cell_type": "markdown",
   "metadata": {},
   "source": [
    "# 05 Control Flow – Try"
   ]
  },
  {
   "cell_type": "code",
   "execution_count": 1,
   "metadata": {},
   "outputs": [
    {
     "name": "stdout",
     "output_type": "stream",
     "text": [
      "Your BMI is 19.60.\n"
     ]
    }
   ],
   "source": [
    "height_cm = 166\n",
    "weight_kg = 54\n",
    "\n",
    "height_m = height_cm / 100\n",
    "\n",
    "# https://en.wikipedia.org/wiki/Body_mass_index\n",
    "bmi = weight_kg / height_m**2\n",
    "\n",
    "print(f'Your BMI is {bmi:.2f}.')"
   ]
  },
  {
   "cell_type": "code",
   "execution_count": 2,
   "metadata": {},
   "outputs": [],
   "source": [
    "# # how about\n",
    "\n",
    "# height_cm = '166'\n",
    "# weight_kg = '54'\n",
    "\n",
    "# height_m = height_cm/100\n",
    "\n",
    "# # https://en.wikipedia.org/wiki/Body_mass_index\n",
    "# bmi = weight_kg / height_m**2\n",
    "\n",
    "# print(f'Your BMI is {bmi:.2f}.')"
   ]
  },
  {
   "cell_type": "code",
   "execution_count": 3,
   "metadata": {},
   "outputs": [
    {
     "name": "stdout",
     "output_type": "stream",
     "text": [
      "Error: unsupported operand type(s) for /: 'str' and 'int'\n",
      "Thanks for using.\n"
     ]
    }
   ],
   "source": [
    "height_cm = '166'\n",
    "weight_kg = '54'\n",
    "\n",
    "try:\n",
    "    height_m = height_cm / 100\n",
    "    bmi = weight_kg / height_m**2\n",
    "except Exception as e:\n",
    "    # when an exception happens\n",
    "    print('Error:', e)\n",
    "else:\n",
    "    # when no exception happens\n",
    "    print(f'Your BMI is {bmi:.2f}.')\n",
    "finally:\n",
    "    # in any case\n",
    "    # usually for releasing non-Python resource\n",
    "    print('Thanks for using.')"
   ]
  },
  {
   "cell_type": "markdown",
   "metadata": {},
   "source": [
    "## The Syntax\n",
    "\n",
    "* `except` can be many.\n",
    "* `else` and `finally` are optional.\n",
    "\n",
    "## Dig More\n",
    "\n",
    "* https://docs.python.org/3/library/exceptions.html#exception-hierarchy."
   ]
  }
 ],
 "metadata": {
  "kernelspec": {
   "display_name": "Python 3 (practicing-python-3)",
   "language": "python",
   "name": "python3-practicing-python-3"
  },
  "language_info": {
   "codemirror_mode": {
    "name": "ipython",
    "version": 3
   },
   "file_extension": ".py",
   "mimetype": "text/x-python",
   "name": "python",
   "nbconvert_exporter": "python",
   "pygments_lexer": "ipython3",
   "version": "3.6.3"
  },
  "toc": {
   "nav_menu": {},
   "number_sections": true,
   "sideBar": true,
   "skip_h1_title": true,
   "toc_cell": false,
   "toc_position": {},
   "toc_section_display": "block",
   "toc_window_display": false
  }
 },
 "nbformat": 4,
 "nbformat_minor": 2
}
