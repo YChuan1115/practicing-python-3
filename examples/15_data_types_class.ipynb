{
 "cells": [
  {
   "cell_type": "markdown",
   "metadata": {},
   "source": [
    "# Data Types – Class\n",
    "\n",
    "## Methods and Instance Variables"
   ]
  },
  {
   "cell_type": "code",
   "execution_count": 1,
   "metadata": {},
   "outputs": [],
   "source": [
    "class Google:\n",
    "\n",
    "    def __init__(self):\n",
    "        print('Init.')\n",
    "        self.username = ''\n",
    "        self.password = ''\n",
    "\n",
    "    def log_in(self, username, password):\n",
    "        print('Logging in as', username, '...')\n",
    "        self.username = username\n",
    "        self.password = password\n",
    "\n",
    "    def query_mail(self):\n",
    "        print('Query mail ...')\n",
    "\n",
    "    def query_calendar(self):\n",
    "        print('Query calendar ...')"
   ]
  },
  {
   "cell_type": "code",
   "execution_count": 2,
   "metadata": {},
   "outputs": [
    {
     "name": "stdout",
     "output_type": "stream",
     "text": [
      "Init.\n",
      "Logging in as mosky ...\n",
      "Query mail ...\n",
      "mosky\n",
      "\n",
      "Init.\n",
      "Logging in as andy ...\n",
      "Query mail ...\n",
      "andy\n"
     ]
    }
   ],
   "source": [
    "mosky_g = Google()\n",
    "mosky_g.log_in('mosky', 'mypassword')\n",
    "mosky_g.query_mail()\n",
    "# === Google.query_mail(mosky_g)\n",
    "print(mosky_g.username)\n",
    "print()\n",
    "\n",
    "andy_g = Google()\n",
    "andy_g.log_in('andy', 'andypassword')\n",
    "andy_g.query_mail()\n",
    "print(andy_g.username)"
   ]
  },
  {
   "cell_type": "markdown",
   "metadata": {},
   "source": [
    "## Class Method and Class Variables"
   ]
  },
  {
   "cell_type": "code",
   "execution_count": 3,
   "metadata": {},
   "outputs": [],
   "source": [
    "class Google:\n",
    "\n",
    "    gmail_url = 'http://mail.google.com'\n",
    "    calendar_url = 'http://calendar.google.com'\n",
    "    \n",
    "    @classmethod\n",
    "    def get_config_d(cls):\n",
    "        return {\n",
    "            'gmail_url': cls.gmail_url,\n",
    "            'calendar_url': cls.calendar_url,\n",
    "        }\n",
    "        \n",
    "    def __init__(self):\n",
    "        print('Init.')\n",
    "        self.username = ''\n",
    "        self.password = ''\n",
    "\n",
    "    def log_in(self, username, password):\n",
    "        print('Logging in as', username, '...')\n",
    "        self.username = username\n",
    "        self.password = password\n",
    "\n",
    "    def query_mail(self):\n",
    "        print('Query mail ...')\n",
    "\n",
    "    def query_calendar(self):\n",
    "        print('Query calendar ...')"
   ]
  },
  {
   "cell_type": "code",
   "execution_count": 4,
   "metadata": {},
   "outputs": [
    {
     "name": "stdout",
     "output_type": "stream",
     "text": [
      "http://mail.google.com\n",
      "http://calendar.google.com\n",
      "\n",
      "{'gmail_url': 'http://mail.google.com', 'calendar_url': 'http://calendar.google.com'}\n",
      "Init.\n",
      "Logging in as mosky ...\n",
      "Query mail ...\n",
      "mosky\n",
      "\n",
      "Init.\n",
      "Logging in as andy ...\n",
      "Query mail ...\n",
      "andy\n"
     ]
    }
   ],
   "source": [
    "print(Google.gmail_url)\n",
    "print(Google.calendar_url)\n",
    "print()\n",
    "\n",
    "print(Google.get_config_d())\n",
    "\n",
    "mosky_g = Google()\n",
    "mosky_g.log_in('mosky', 'mypassword')\n",
    "mosky_g.query_mail()\n",
    "print(mosky_g.username)\n",
    "print()\n",
    "\n",
    "andy_g = Google()\n",
    "andy_g.log_in('andy', 'andypassword')\n",
    "andy_g.query_mail()\n",
    "print(andy_g.username)"
   ]
  },
  {
   "cell_type": "code",
   "execution_count": 5,
   "metadata": {},
   "outputs": [],
   "source": [
    "class Site:\n",
    "\n",
    "    def __init__(self):\n",
    "        print('Init.')\n",
    "        self.username = ''\n",
    "        self.password = ''\n",
    "\n",
    "    def log_in(self, username, password):\n",
    "        print('Logging in as', username, '...')\n",
    "        self.username = username\n",
    "        self.password = password\n",
    "\n",
    "\n",
    "class Google(Site):\n",
    "\n",
    "    def query_mail(self):\n",
    "        print('Query Gmail ...')\n",
    "\n",
    "    def query_calendar(self):\n",
    "        print('Query calendar ...')\n",
    "\n",
    "\n",
    "class Yahoo(Site):\n",
    "\n",
    "    yahoo_mail_url = 'http://mail.yahoo.com'\n",
    "\n",
    "    def query_mail(self):\n",
    "        print('Query Yahoo! Mail ...')\n",
    "\n",
    "    def query_calendar(self):\n",
    "        print('Query calendar ...')"
   ]
  },
  {
   "cell_type": "code",
   "execution_count": 6,
   "metadata": {},
   "outputs": [
    {
     "name": "stdout",
     "output_type": "stream",
     "text": [
      "Init.\n",
      "Logging in as mosky ...\n",
      "Query Gmail ...\n",
      "mosky\n",
      "\n",
      "Init.\n",
      "Logging in as andy ...\n",
      "Query Yahoo! Mail ...\n",
      "andy\n"
     ]
    }
   ],
   "source": [
    "mosky_g = Google()\n",
    "mosky_g.log_in('mosky', 'mypassword')\n",
    "mosky_g.query_mail()\n",
    "print(mosky_g.username)\n",
    "print()\n",
    "\n",
    "andy_y = Yahoo()\n",
    "andy_y.log_in('andy', 'andypassword')\n",
    "andy_y.query_mail()\n",
    "print(andy_y.username)"
   ]
  },
  {
   "cell_type": "markdown",
   "metadata": {},
   "source": []
  }
 ],
 "metadata": {
  "kernelspec": {
   "display_name": "Python 3 (practicing-python-3)",
   "language": "python",
   "name": "python3-practicing-python-3"
  },
  "language_info": {
   "codemirror_mode": {
    "name": "ipython",
    "version": 3
   },
   "file_extension": ".py",
   "mimetype": "text/x-python",
   "name": "python",
   "nbconvert_exporter": "python",
   "pygments_lexer": "ipython3",
   "version": "3.6.3"
  },
  "toc": {
   "nav_menu": {},
   "number_sections": true,
   "sideBar": true,
   "skip_h1_title": true,
   "toc_cell": false,
   "toc_position": {},
   "toc_section_display": "block",
   "toc_window_display": false
  }
 },
 "nbformat": 4,
 "nbformat_minor": 2
}
